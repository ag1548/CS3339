{
 "cells": [
  {
   "cell_type": "code",
   "execution_count": 11,
   "id": "55c1d307",
   "metadata": {},
   "outputs": [],
   "source": [
    "class Entry:\n",
    "\n",
    "    def __init__(self):\n",
    "        self.valid = 0\n",
    "        self.tag = 0\n",
    "        self.ref = 0\n",
    "\n",
    "    def display(self):\n",
    "        if not self.valid:\n",
    "            print(\"| X \", end=\"\")\n",
    "        else:\n",
    "            print(f\"| {str(self.tag)} \", end=\"\")\n",
    "\n",
    "class Cache:\n",
    "\n",
    "    def __init__(self, _num_entries, _assoc):\n",
    "        self.num_entries = _num_entries\n",
    "        self.assoc = _assoc\n",
    "        self.num_sets = (int) (_num_entries / _assoc)\n",
    "        self.list_of_list_of_entries = [[Entry() for x in range(self.num_sets)] for x in range(self.assoc)]\n",
    "\n",
    "        for set_, row in enumerate(self.list_of_list_of_entries):\n",
    "            for entry in row:\n",
    "                entry.tag = 0\n",
    "                entry.valid = 0\n",
    "                entry.ref = set_\n",
    "\n",
    "        print(\"Cache created:\")\n",
    "        print(\"\\t\" + str(self.assoc) + \"-way associative with \" + str(self.num_entries) + \" entries\")\n",
    "        print(\"\\t\" + str(self.num_sets) + \" sets per way\")\n",
    "\n",
    "        self.display()\n",
    "\n",
    "    def get_index(self, addr) -> int:\n",
    "        return addr % self.num_sets\n",
    "\n",
    "    def get_tag(self, addr) -> int:\n",
    "        return (int) (addr / self.num_sets)\n",
    "\n",
    "    def hit(self, addr) -> bool:\n",
    "\n",
    "        # Get the set that we are referencing\n",
    "        index = self.get_index(addr)\n",
    "\n",
    "        # Iterate our sets\n",
    "        for i,list_of_entries in enumerate(self.list_of_list_of_entries):\n",
    "\n",
    "            # Get the entry from that set given the index\n",
    "            entry = list_of_entries[index]\n",
    "\n",
    "            # Is the entry valid?\n",
    "            if entry.valid:\n",
    "\n",
    "                # Does the tag match?\n",
    "                if (entry.tag == self.get_tag(addr)):\n",
    "                    ## this is a cache hit; adjust LRU ref counter\n",
    "\n",
    "                    ## assoc - 1 = most recent\n",
    "                    for sub_list_of_entries in self.list_of_list_of_entries:\n",
    "\n",
    "                        sub_entry = sub_list_of_entries[index]\n",
    "\n",
    "                        # If entry is more recent than current ref then make it older\n",
    "                        if (sub_entry.ref > entry.ref):\n",
    "                            sub_entry.ref = sub_entry.ref - 1\n",
    "\n",
    "                    # Make target entry the newest entry\n",
    "                    entry.ref = self.assoc - 1\n",
    "\n",
    "                    print(\"--- [Cache Hit] Found : \" + str(addr) + \" in Set \" + str(i) + \", Index \" + str(index))\n",
    "\n",
    "                    return True\n",
    "\n",
    "                else:\n",
    "\n",
    "                    # Tag did not match\n",
    "                    print(\"--- [Cache Miss] Did not find data for addr: \" + str(addr))\n",
    "                    print(\"        Tag mismatch: Addr Tag = \" + str(self.get_tag(addr)) + \" Stored Tag: \" + str(entry.tag))\n",
    "                    return False\n",
    "\n",
    "            else:\n",
    "\n",
    "                # Entry was not valid\n",
    "                print(\"--- [Cache Miss] Did not find data for addr: \" + str(addr))\n",
    "                print(\"        Cache block has invalid entry \")\n",
    "\n",
    "        return False\n",
    "\n",
    "\n",
    "    def update(self, addr):\n",
    "\n",
    "        # Display whether it is a hit or a miss\n",
    "        self.hit(addr)\n",
    "\n",
    "        # Get which set we are referencing\n",
    "        index = self.get_index(addr)\n",
    "\n",
    "        # Iterate through all the sets\n",
    "        for list_of_entries in self.list_of_list_of_entries:\n",
    "\n",
    "            # Get the entry from the set\n",
    "            entry = list_of_entries[index]\n",
    "\n",
    "            # Skip entries with valid refs\n",
    "            if not entry.ref:\n",
    "\n",
    "                # (1) Set the valid bit\n",
    "                entry.valid = 1\n",
    "\n",
    "                # (2) Set the ref bit\n",
    "                # If entry is more recent than current ref then make it older\n",
    "                for sub_list_of_entries in self.list_of_list_of_entries:\n",
    "                    if (sub_list_of_entries[index].ref > entry.ref):\n",
    "                        sub_list_of_entries[index].ref = sub_list_of_entries[index].ref - 1\n",
    "\n",
    "                # Make target entry the newest entry\n",
    "                entry.ref = self.assoc - 1\n",
    "\n",
    "                # (3) Set the tag\n",
    "                entry.tag = self.get_tag(addr)\n",
    "\n",
    "                # Break after we found an entry to write from all the sets\n",
    "                break\n",
    "\n",
    "\n",
    "    def display(self):\n",
    "\n",
    "        print(\"************ Cache ************\")\n",
    "\n",
    "        # Display top line\n",
    "        print(\"+\", end=\"\")\n",
    "        for j in range(self.assoc):\n",
    "            print(\"---+\", end=\"\")\n",
    "        print()\n",
    "\n",
    "        # Display each set\n",
    "        for i in range(self.num_sets):\n",
    "\n",
    "            # Print the entries in the set\n",
    "            for j in range(self.assoc):\n",
    "                self.list_of_list_of_entries[j][i].display()\n",
    "            print(\"|\")\n",
    "\n",
    "            # Print the bottom line for that set\n",
    "            print(\"+\", end=\"\")\n",
    "            for j in range(self.assoc):\n",
    "                print(\"---+\", end=\"\")\n",
    "            print()\n",
    "\n",
    "        print(\"********************************\")\n"
   ]
  },
  {
   "cell_type": "code",
   "execution_count": 12,
   "id": "2d4a264f",
   "metadata": {},
   "outputs": [
    {
     "name": "stdout",
     "output_type": "stream",
     "text": [
      "Cache created:\n",
      "\t1-way associative with 8 entries\n",
      "\t8 sets per way\n",
      "************ Cache ************\n",
      "+---+\n",
      "| X |\n",
      "+---+\n",
      "| X |\n",
      "+---+\n",
      "| X |\n",
      "+---+\n",
      "| X |\n",
      "+---+\n",
      "| X |\n",
      "+---+\n",
      "| X |\n",
      "+---+\n",
      "| X |\n",
      "+---+\n",
      "| X |\n",
      "+---+\n",
      "********************************\n"
     ]
    }
   ],
   "source": [
    "cache = Cache(8, 1)"
   ]
  },
  {
   "cell_type": "code",
   "execution_count": 13,
   "id": "69d452a6",
   "metadata": {},
   "outputs": [
    {
     "data": {
      "text/plain": [
       "3"
      ]
     },
     "execution_count": 13,
     "metadata": {},
     "output_type": "execute_result"
    }
   ],
   "source": [
    "cache.get_index(3)"
   ]
  },
  {
   "cell_type": "code",
   "execution_count": 14,
   "id": "b04fa093",
   "metadata": {},
   "outputs": [
    {
     "data": {
      "text/plain": [
       "1"
      ]
     },
     "execution_count": 14,
     "metadata": {},
     "output_type": "execute_result"
    }
   ],
   "source": [
    "cache.get_index(17)"
   ]
  },
  {
   "cell_type": "code",
   "execution_count": 15,
   "id": "cb407fc4",
   "metadata": {},
   "outputs": [
    {
     "data": {
      "text/plain": [
       "0"
      ]
     },
     "execution_count": 15,
     "metadata": {},
     "output_type": "execute_result"
    }
   ],
   "source": [
    "cache.get_index(24)"
   ]
  },
  {
   "cell_type": "code",
   "execution_count": 16,
   "id": "51a9ec1a",
   "metadata": {},
   "outputs": [
    {
     "data": {
      "text/plain": [
       "0"
      ]
     },
     "execution_count": 16,
     "metadata": {},
     "output_type": "execute_result"
    }
   ],
   "source": [
    "cache.get_tag(3)"
   ]
  },
  {
   "cell_type": "code",
   "execution_count": 17,
   "id": "abade414",
   "metadata": {},
   "outputs": [
    {
     "data": {
      "text/plain": [
       "2"
      ]
     },
     "execution_count": 17,
     "metadata": {},
     "output_type": "execute_result"
    }
   ],
   "source": [
    "cache.get_tag(17)"
   ]
  },
  {
   "cell_type": "code",
   "execution_count": 18,
   "id": "0280d222",
   "metadata": {},
   "outputs": [
    {
     "data": {
      "text/plain": [
       "3"
      ]
     },
     "execution_count": 18,
     "metadata": {},
     "output_type": "execute_result"
    }
   ],
   "source": [
    "cache.get_tag(24)"
   ]
  },
  {
   "cell_type": "code",
   "execution_count": 19,
   "id": "5a4d8e1e",
   "metadata": {},
   "outputs": [
    {
     "name": "stdout",
     "output_type": "stream",
     "text": [
      "--- [Cache Miss] Did not find data for addr: 4\n",
      "        Cache block has invalid entry \n",
      "--- [Cache Miss] Did not find data for addr: 3\n",
      "        Cache block has invalid entry \n",
      "--- [Cache Miss] Did not find data for addr: 17\n",
      "        Cache block has invalid entry \n",
      "--- [Cache Miss] Did not find data for addr: 24\n",
      "        Cache block has invalid entry \n"
     ]
    }
   ],
   "source": [
    "cache.update(4)\n",
    "cache.update(3)\n",
    "cache.update(17)\n",
    "cache.update(24)"
   ]
  },
  {
   "cell_type": "code",
   "execution_count": 20,
   "id": "badab0b3",
   "metadata": {},
   "outputs": [
    {
     "name": "stdout",
     "output_type": "stream",
     "text": [
      "************ Cache ************\n",
      "+---+\n",
      "| 3 |\n",
      "+---+\n",
      "| 2 |\n",
      "+---+\n",
      "| X |\n",
      "+---+\n",
      "| 0 |\n",
      "+---+\n",
      "| 0 |\n",
      "+---+\n",
      "| X |\n",
      "+---+\n",
      "| X |\n",
      "+---+\n",
      "| X |\n",
      "+---+\n",
      "********************************\n"
     ]
    }
   ],
   "source": [
    "cache.display()"
   ]
  },
  {
   "cell_type": "code",
   "execution_count": 21,
   "id": "57ed1167",
   "metadata": {},
   "outputs": [
    {
     "name": "stdout",
     "output_type": "stream",
     "text": [
      "--- [Cache Hit] Found : 3 in Set 0, Index 3\n",
      "--- [Cache Hit] Found : 4 in Set 0, Index 4\n"
     ]
    }
   ],
   "source": [
    "cache.update(3)\n",
    "cache.update(4)"
   ]
  },
  {
   "cell_type": "code",
   "execution_count": 22,
   "id": "7c258822",
   "metadata": {},
   "outputs": [
    {
     "name": "stdout",
     "output_type": "stream",
     "text": [
      "************ Cache ************\n",
      "+---+\n",
      "| 3 |\n",
      "+---+\n",
      "| 2 |\n",
      "+---+\n",
      "| X |\n",
      "+---+\n",
      "| 0 |\n",
      "+---+\n",
      "| 0 |\n",
      "+---+\n",
      "| X |\n",
      "+---+\n",
      "| X |\n",
      "+---+\n",
      "| X |\n",
      "+---+\n",
      "********************************\n"
     ]
    }
   ],
   "source": [
    "cache.display()"
   ]
  },
  {
   "cell_type": "code",
   "execution_count": 23,
   "id": "504d0191",
   "metadata": {},
   "outputs": [
    {
     "name": "stdout",
     "output_type": "stream",
     "text": [
      "--- [Cache Miss] Did not find data for addr: 11\n",
      "        Tag mismatch: Addr Tag = 1 Stored Tag: 0\n"
     ]
    }
   ],
   "source": [
    "cache.update(11)"
   ]
  },
  {
   "cell_type": "code",
   "execution_count": 24,
   "id": "eb21122c",
   "metadata": {},
   "outputs": [
    {
     "data": {
      "text/plain": [
       "3"
      ]
     },
     "execution_count": 24,
     "metadata": {},
     "output_type": "execute_result"
    }
   ],
   "source": [
    "cache.get_index(3)"
   ]
  },
  {
   "cell_type": "code",
   "execution_count": 25,
   "id": "1a457dc4",
   "metadata": {},
   "outputs": [
    {
     "data": {
      "text/plain": [
       "3"
      ]
     },
     "execution_count": 25,
     "metadata": {},
     "output_type": "execute_result"
    }
   ],
   "source": [
    "cache.get_index(11)"
   ]
  },
  {
   "cell_type": "code",
   "execution_count": 26,
   "id": "e6fcfdcc",
   "metadata": {},
   "outputs": [
    {
     "name": "stdout",
     "output_type": "stream",
     "text": [
      "************ Cache ************\n",
      "+---+\n",
      "| 3 |\n",
      "+---+\n",
      "| 2 |\n",
      "+---+\n",
      "| X |\n",
      "+---+\n",
      "| 1 |\n",
      "+---+\n",
      "| 0 |\n",
      "+---+\n",
      "| X |\n",
      "+---+\n",
      "| X |\n",
      "+---+\n",
      "| X |\n",
      "+---+\n",
      "********************************\n"
     ]
    }
   ],
   "source": [
    "cache.display()"
   ]
  },
  {
   "cell_type": "code",
   "execution_count": 27,
   "id": "67937262",
   "metadata": {},
   "outputs": [
    {
     "data": {
      "text/plain": [
       "1"
      ]
     },
     "execution_count": 27,
     "metadata": {},
     "output_type": "execute_result"
    }
   ],
   "source": [
    "cache.get_tag(11)"
   ]
  },
  {
   "cell_type": "code",
   "execution_count": 28,
   "id": "d5739f4b",
   "metadata": {},
   "outputs": [
    {
     "name": "stdout",
     "output_type": "stream",
     "text": [
      "--- [Cache Miss] Did not find data for addr: 3\n",
      "        Tag mismatch: Addr Tag = 0 Stored Tag: 1\n"
     ]
    }
   ],
   "source": [
    "cache.update(3)"
   ]
  },
  {
   "cell_type": "code",
   "execution_count": 29,
   "id": "33f87447",
   "metadata": {},
   "outputs": [
    {
     "name": "stdout",
     "output_type": "stream",
     "text": [
      "Cache created:\n",
      "\t2-way associative with 8 entries\n",
      "\t4 sets per way\n",
      "************ Cache ************\n",
      "+---+---+\n",
      "| X | X |\n",
      "+---+---+\n",
      "| X | X |\n",
      "+---+---+\n",
      "| X | X |\n",
      "+---+---+\n",
      "| X | X |\n",
      "+---+---+\n",
      "********************************\n"
     ]
    }
   ],
   "source": [
    "cache = Cache(8,2)"
   ]
  },
  {
   "cell_type": "code",
   "execution_count": 30,
   "id": "19e7b5ac",
   "metadata": {},
   "outputs": [
    {
     "name": "stdout",
     "output_type": "stream",
     "text": [
      "--- [Cache Miss] Did not find data for addr: 3\n",
      "        Cache block has invalid entry \n",
      "--- [Cache Miss] Did not find data for addr: 3\n",
      "        Cache block has invalid entry \n",
      "--- [Cache Miss] Did not find data for addr: 17\n",
      "        Cache block has invalid entry \n",
      "--- [Cache Miss] Did not find data for addr: 17\n",
      "        Cache block has invalid entry \n",
      "--- [Cache Miss] Did not find data for addr: 24\n",
      "        Cache block has invalid entry \n",
      "--- [Cache Miss] Did not find data for addr: 24\n",
      "        Cache block has invalid entry \n"
     ]
    }
   ],
   "source": [
    "cache.update(3)\n",
    "cache.update(17)\n",
    "cache.update(24)"
   ]
  },
  {
   "cell_type": "code",
   "execution_count": 31,
   "id": "0b921299",
   "metadata": {},
   "outputs": [
    {
     "name": "stdout",
     "output_type": "stream",
     "text": [
      "************ Cache ************\n",
      "+---+---+\n",
      "| 6 | X |\n",
      "+---+---+\n",
      "| 4 | X |\n",
      "+---+---+\n",
      "| X | X |\n",
      "+---+---+\n",
      "| 0 | X |\n",
      "+---+---+\n",
      "********************************\n"
     ]
    }
   ],
   "source": [
    "cache.display()"
   ]
  },
  {
   "cell_type": "code",
   "execution_count": 32,
   "id": "1bd9c84a",
   "metadata": {},
   "outputs": [
    {
     "name": "stdout",
     "output_type": "stream",
     "text": [
      "--- [Cache Hit] Found : 3 in Set 0, Index 3\n",
      "--- [Cache Miss] Did not find data for addr: 11\n",
      "        Tag mismatch: Addr Tag = 2 Stored Tag: 0\n",
      "--- [Cache Miss] Did not find data for addr: 3\n",
      "        Tag mismatch: Addr Tag = 0 Stored Tag: 2\n"
     ]
    }
   ],
   "source": [
    "cache.update(3)\n",
    "cache.update(11)\n",
    "cache.update(3)"
   ]
  },
  {
   "cell_type": "code",
   "execution_count": 33,
   "id": "31468bae",
   "metadata": {},
   "outputs": [
    {
     "name": "stdout",
     "output_type": "stream",
     "text": [
      "************ Cache ************\n",
      "+---+---+\n",
      "| 6 | X |\n",
      "+---+---+\n",
      "| 4 | X |\n",
      "+---+---+\n",
      "| X | X |\n",
      "+---+---+\n",
      "| 2 | 0 |\n",
      "+---+---+\n",
      "********************************\n"
     ]
    }
   ],
   "source": [
    "cache.display()"
   ]
  }
 ],
 "metadata": {
  "kernelspec": {
   "display_name": ".venv (3.12.3)",
   "language": "python",
   "name": "python3"
  },
  "language_info": {
   "codemirror_mode": {
    "name": "ipython",
    "version": 3
   },
   "file_extension": ".py",
   "mimetype": "text/x-python",
   "name": "python",
   "nbconvert_exporter": "python",
   "pygments_lexer": "ipython3",
   "version": "3.12.3"
  }
 },
 "nbformat": 4,
 "nbformat_minor": 5
}
